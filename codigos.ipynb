{
 "cells": [
  {
   "cell_type": "code",
   "execution_count": 1,
   "metadata": {},
   "outputs": [],
   "source": [
    "# Importar bibliotecas\n",
    "import pandas as pd # manejo de datos\n",
    "import numpy as np # manejo numérico\n",
    "import matplotlib.pyplot as plt # graficos\n",
    "import seaborn as sns # graficos\n",
    "import matplotlib.pyplot as plt\n",
    "from sklearn.model_selection import train_test_split, GridSearchCV, KFold\n",
    "from sklearn.linear_model import LinearRegression # Regresión Lineal\n",
    "from sklearn.metrics import mean_squared_error, mean_absolute_error, r2_score # Importar métricas de rendimientos\n",
    "from sklearn.impute import SimpleImputer\n",
    "from sklearn.impute import KNNImputer\n",
    "from sklearn.preprocessing import StandardScaler\n",
    "from sklearn.linear_model import Lasso, Ridge, ElasticNet\n",
    "from sklearn.svm import SVR\n",
    "from sklearn.preprocessing import PolynomialFeatures\n",
    "from sklearn.neighbors import KNeighborsRegressor\n",
    "from sklearn.tree import DecisionTreeRegressor\n",
    "from sklearn.ensemble import RandomForestRegressor\n",
    "from sklearn.decomposition import PCA\n",
    "import math as m\n",
    "import scipy.stats as stats\n",
    "\n",
    "# Importar módulo para ignorar errores\n",
    "from warnings import filterwarnings\n",
    "filterwarnings('ignore')"
   ]
  },
  {
   "cell_type": "code",
   "execution_count": 2,
   "metadata": {},
   "outputs": [],
   "source": [
    "data = pd.read_csv('ingresos.txt', sep='\\t') "
   ]
  },
  {
   "cell_type": "code",
   "execution_count": 3,
   "metadata": {},
   "outputs": [
    {
     "data": {
      "text/html": [
       "<div>\n",
       "<style scoped>\n",
       "    .dataframe tbody tr th:only-of-type {\n",
       "        vertical-align: middle;\n",
       "    }\n",
       "\n",
       "    .dataframe tbody tr th {\n",
       "        vertical-align: top;\n",
       "    }\n",
       "\n",
       "    .dataframe thead th {\n",
       "        text-align: right;\n",
       "    }\n",
       "</style>\n",
       "<table border=\"1\" class=\"dataframe\">\n",
       "  <thead>\n",
       "    <tr style=\"text-align: right;\">\n",
       "      <th></th>\n",
       "      <th>estatura</th>\n",
       "      <th>peso</th>\n",
       "      <th>genero</th>\n",
       "      <th>ingresos</th>\n",
       "      <th>etnia</th>\n",
       "      <th>educacion</th>\n",
       "      <th>educacion_madre</th>\n",
       "      <th>educacion_padre</th>\n",
       "      <th>camina</th>\n",
       "      <th>ejercicio</th>\n",
       "      <th>fumador</th>\n",
       "      <th>tenso</th>\n",
       "      <th>malhumorado</th>\n",
       "      <th>edad</th>\n",
       "    </tr>\n",
       "  </thead>\n",
       "  <tbody>\n",
       "    <tr>\n",
       "      <th>0</th>\n",
       "      <td>187.96</td>\n",
       "      <td>95.25</td>\n",
       "      <td>masculino</td>\n",
       "      <td>50000.0</td>\n",
       "      <td>Blanco</td>\n",
       "      <td>16.0</td>\n",
       "      <td>16.0</td>\n",
       "      <td>16.0</td>\n",
       "      <td>3</td>\n",
       "      <td>3</td>\n",
       "      <td>2.0</td>\n",
       "      <td>0.0</td>\n",
       "      <td>0.0</td>\n",
       "      <td>45</td>\n",
       "    </tr>\n",
       "    <tr>\n",
       "      <th>1</th>\n",
       "      <td>167.64</td>\n",
       "      <td>56.70</td>\n",
       "      <td>femenino</td>\n",
       "      <td>60000.0</td>\n",
       "      <td>Blanco</td>\n",
       "      <td>16.0</td>\n",
       "      <td>16.0</td>\n",
       "      <td>16.0</td>\n",
       "      <td>6</td>\n",
       "      <td>5</td>\n",
       "      <td>1.0</td>\n",
       "      <td>0.0</td>\n",
       "      <td>0.0</td>\n",
       "      <td>58</td>\n",
       "    </tr>\n",
       "    <tr>\n",
       "      <th>2</th>\n",
       "      <td>162.56</td>\n",
       "      <td>57.15</td>\n",
       "      <td>femenino</td>\n",
       "      <td>30000.0</td>\n",
       "      <td>Blanco</td>\n",
       "      <td>16.0</td>\n",
       "      <td>16.0</td>\n",
       "      <td>16.0</td>\n",
       "      <td>8</td>\n",
       "      <td>1</td>\n",
       "      <td>2.0</td>\n",
       "      <td>1.0</td>\n",
       "      <td>1.0</td>\n",
       "      <td>29</td>\n",
       "    </tr>\n",
       "  </tbody>\n",
       "</table>\n",
       "</div>"
      ],
      "text/plain": [
       "   estatura   peso     genero  ingresos   etnia  educacion  educacion_madre  \\\n",
       "0    187.96  95.25  masculino   50000.0  Blanco       16.0             16.0   \n",
       "1    167.64  56.70   femenino   60000.0  Blanco       16.0             16.0   \n",
       "2    162.56  57.15   femenino   30000.0  Blanco       16.0             16.0   \n",
       "\n",
       "   educacion_padre  camina  ejercicio  fumador  tenso  malhumorado  edad  \n",
       "0             16.0       3          3      2.0    0.0          0.0    45  \n",
       "1             16.0       6          5      1.0    0.0          0.0    58  \n",
       "2             16.0       8          1      2.0    1.0          1.0    29  "
      ]
     },
     "execution_count": 3,
     "metadata": {},
     "output_type": "execute_result"
    }
   ],
   "source": [
    "data.head(3)"
   ]
  },
  {
   "cell_type": "code",
   "execution_count": 4,
   "metadata": {},
   "outputs": [
    {
     "data": {
      "text/html": [
       "<div>\n",
       "<style scoped>\n",
       "    .dataframe tbody tr th:only-of-type {\n",
       "        vertical-align: middle;\n",
       "    }\n",
       "\n",
       "    .dataframe tbody tr th {\n",
       "        vertical-align: top;\n",
       "    }\n",
       "\n",
       "    .dataframe thead th {\n",
       "        text-align: right;\n",
       "    }\n",
       "</style>\n",
       "<table border=\"1\" class=\"dataframe\">\n",
       "  <thead>\n",
       "    <tr style=\"text-align: right;\">\n",
       "      <th></th>\n",
       "      <th>count</th>\n",
       "      <th>mean</th>\n",
       "      <th>std</th>\n",
       "      <th>min</th>\n",
       "      <th>25%</th>\n",
       "      <th>50%</th>\n",
       "      <th>75%</th>\n",
       "      <th>max</th>\n",
       "    </tr>\n",
       "  </thead>\n",
       "  <tbody>\n",
       "    <tr>\n",
       "      <th>estatura</th>\n",
       "      <td>1816.0</td>\n",
       "      <td>169.084835</td>\n",
       "      <td>9.732829</td>\n",
       "      <td>144.78</td>\n",
       "      <td>162.56</td>\n",
       "      <td>167.64</td>\n",
       "      <td>175.895</td>\n",
       "      <td>208.28</td>\n",
       "    </tr>\n",
       "    <tr>\n",
       "      <th>peso</th>\n",
       "      <td>1789.0</td>\n",
       "      <td>70.898418</td>\n",
       "      <td>15.701936</td>\n",
       "      <td>36.29</td>\n",
       "      <td>58.97</td>\n",
       "      <td>68.04</td>\n",
       "      <td>81.650</td>\n",
       "      <td>155.13</td>\n",
       "    </tr>\n",
       "    <tr>\n",
       "      <th>ingresos</th>\n",
       "      <td>1816.0</td>\n",
       "      <td>21147.296256</td>\n",
       "      <td>22531.765123</td>\n",
       "      <td>0.00</td>\n",
       "      <td>6000.00</td>\n",
       "      <td>16000.00</td>\n",
       "      <td>27000.000</td>\n",
       "      <td>400000.00</td>\n",
       "    </tr>\n",
       "    <tr>\n",
       "      <th>educacion</th>\n",
       "      <td>1814.0</td>\n",
       "      <td>13.235391</td>\n",
       "      <td>2.556638</td>\n",
       "      <td>2.00</td>\n",
       "      <td>12.00</td>\n",
       "      <td>12.00</td>\n",
       "      <td>15.000</td>\n",
       "      <td>18.00</td>\n",
       "    </tr>\n",
       "    <tr>\n",
       "      <th>educacion_madre</th>\n",
       "      <td>1572.0</td>\n",
       "      <td>13.608779</td>\n",
       "      <td>3.219372</td>\n",
       "      <td>3.00</td>\n",
       "      <td>12.00</td>\n",
       "      <td>13.00</td>\n",
       "      <td>16.000</td>\n",
       "      <td>99.00</td>\n",
       "    </tr>\n",
       "    <tr>\n",
       "      <th>educacion_padre</th>\n",
       "      <td>1521.0</td>\n",
       "      <td>13.652202</td>\n",
       "      <td>3.250811</td>\n",
       "      <td>3.00</td>\n",
       "      <td>12.00</td>\n",
       "      <td>13.00</td>\n",
       "      <td>16.000</td>\n",
       "      <td>99.00</td>\n",
       "    </tr>\n",
       "    <tr>\n",
       "      <th>camina</th>\n",
       "      <td>1816.0</td>\n",
       "      <td>5.303414</td>\n",
       "      <td>2.601104</td>\n",
       "      <td>1.00</td>\n",
       "      <td>3.00</td>\n",
       "      <td>6.00</td>\n",
       "      <td>8.000</td>\n",
       "      <td>8.00</td>\n",
       "    </tr>\n",
       "    <tr>\n",
       "      <th>ejercicio</th>\n",
       "      <td>1816.0</td>\n",
       "      <td>3.049009</td>\n",
       "      <td>2.316385</td>\n",
       "      <td>1.00</td>\n",
       "      <td>1.00</td>\n",
       "      <td>2.00</td>\n",
       "      <td>5.000</td>\n",
       "      <td>7.00</td>\n",
       "    </tr>\n",
       "    <tr>\n",
       "      <th>fumador</th>\n",
       "      <td>1815.0</td>\n",
       "      <td>1.745455</td>\n",
       "      <td>0.435725</td>\n",
       "      <td>1.00</td>\n",
       "      <td>1.00</td>\n",
       "      <td>2.00</td>\n",
       "      <td>2.000</td>\n",
       "      <td>2.00</td>\n",
       "    </tr>\n",
       "    <tr>\n",
       "      <th>tenso</th>\n",
       "      <td>1815.0</td>\n",
       "      <td>1.421488</td>\n",
       "      <td>2.157850</td>\n",
       "      <td>0.00</td>\n",
       "      <td>0.00</td>\n",
       "      <td>0.00</td>\n",
       "      <td>2.000</td>\n",
       "      <td>7.00</td>\n",
       "    </tr>\n",
       "    <tr>\n",
       "      <th>malhumorado</th>\n",
       "      <td>1815.0</td>\n",
       "      <td>1.421488</td>\n",
       "      <td>2.157850</td>\n",
       "      <td>0.00</td>\n",
       "      <td>0.00</td>\n",
       "      <td>0.00</td>\n",
       "      <td>2.000</td>\n",
       "      <td>7.00</td>\n",
       "    </tr>\n",
       "    <tr>\n",
       "      <th>edad</th>\n",
       "      <td>1816.0</td>\n",
       "      <td>42.934471</td>\n",
       "      <td>17.161672</td>\n",
       "      <td>18.00</td>\n",
       "      <td>29.00</td>\n",
       "      <td>39.00</td>\n",
       "      <td>56.000</td>\n",
       "      <td>91.00</td>\n",
       "    </tr>\n",
       "  </tbody>\n",
       "</table>\n",
       "</div>"
      ],
      "text/plain": [
       "                  count          mean           std     min      25%  \\\n",
       "estatura         1816.0    169.084835      9.732829  144.78   162.56   \n",
       "peso             1789.0     70.898418     15.701936   36.29    58.97   \n",
       "ingresos         1816.0  21147.296256  22531.765123    0.00  6000.00   \n",
       "educacion        1814.0     13.235391      2.556638    2.00    12.00   \n",
       "educacion_madre  1572.0     13.608779      3.219372    3.00    12.00   \n",
       "educacion_padre  1521.0     13.652202      3.250811    3.00    12.00   \n",
       "camina           1816.0      5.303414      2.601104    1.00     3.00   \n",
       "ejercicio        1816.0      3.049009      2.316385    1.00     1.00   \n",
       "fumador          1815.0      1.745455      0.435725    1.00     1.00   \n",
       "tenso            1815.0      1.421488      2.157850    0.00     0.00   \n",
       "malhumorado      1815.0      1.421488      2.157850    0.00     0.00   \n",
       "edad             1816.0     42.934471     17.161672   18.00    29.00   \n",
       "\n",
       "                      50%        75%        max  \n",
       "estatura           167.64    175.895     208.28  \n",
       "peso                68.04     81.650     155.13  \n",
       "ingresos         16000.00  27000.000  400000.00  \n",
       "educacion           12.00     15.000      18.00  \n",
       "educacion_madre     13.00     16.000      99.00  \n",
       "educacion_padre     13.00     16.000      99.00  \n",
       "camina               6.00      8.000       8.00  \n",
       "ejercicio            2.00      5.000       7.00  \n",
       "fumador              2.00      2.000       2.00  \n",
       "tenso                0.00      2.000       7.00  \n",
       "malhumorado          0.00      2.000       7.00  \n",
       "edad                39.00     56.000      91.00  "
      ]
     },
     "execution_count": 4,
     "metadata": {},
     "output_type": "execute_result"
    }
   ],
   "source": [
    "data.describe().T"
   ]
  },
  {
   "cell_type": "code",
   "execution_count": 5,
   "metadata": {},
   "outputs": [
    {
     "name": "stdout",
     "output_type": "stream",
     "text": [
      "estatura           float64\n",
      "peso               float64\n",
      "genero              object\n",
      "ingresos           float64\n",
      "etnia               object\n",
      "educacion          float64\n",
      "educacion_madre    float64\n",
      "educacion_padre    float64\n",
      "camina               int64\n",
      "ejercicio            int64\n",
      "fumador            float64\n",
      "tenso              float64\n",
      "malhumorado        float64\n",
      "edad                 int64\n",
      "dtype: object\n"
     ]
    }
   ],
   "source": [
    "print(data.dtypes)"
   ]
  },
  {
   "cell_type": "code",
   "execution_count": 6,
   "metadata": {},
   "outputs": [
    {
     "name": "stdout",
     "output_type": "stream",
     "text": [
      "estatura             0\n",
      "peso                27\n",
      "genero               0\n",
      "ingresos             0\n",
      "etnia                0\n",
      "educacion            2\n",
      "educacion_madre    244\n",
      "educacion_padre    295\n",
      "camina               0\n",
      "ejercicio            0\n",
      "fumador              1\n",
      "tenso                1\n",
      "malhumorado          1\n",
      "edad                 0\n",
      "dtype: int64\n"
     ]
    }
   ],
   "source": [
    "nan = data.isna().sum()\n",
    "print(nan)"
   ]
  },
  {
   "cell_type": "code",
   "execution_count": 7,
   "metadata": {},
   "outputs": [],
   "source": [
    "#Variables categoricas a dummies\n",
    "col_for_dummies = data.select_dtypes(object).columns\n",
    "data = pd.get_dummies(data, col_for_dummies, dtype=int, drop_first=True)"
   ]
  },
  {
   "cell_type": "code",
   "execution_count": 8,
   "metadata": {},
   "outputs": [],
   "source": [
    "# Escalar las características\n",
    "scaler = StandardScaler()\n",
    "data_scaled = scaler.fit_transform(data)"
   ]
  },
  {
   "cell_type": "code",
   "execution_count": 9,
   "metadata": {},
   "outputs": [
    {
     "data": {
      "text/html": [
       "<div>\n",
       "<style scoped>\n",
       "    .dataframe tbody tr th:only-of-type {\n",
       "        vertical-align: middle;\n",
       "    }\n",
       "\n",
       "    .dataframe tbody tr th {\n",
       "        vertical-align: top;\n",
       "    }\n",
       "\n",
       "    .dataframe thead th {\n",
       "        text-align: right;\n",
       "    }\n",
       "</style>\n",
       "<table border=\"1\" class=\"dataframe\">\n",
       "  <thead>\n",
       "    <tr style=\"text-align: right;\">\n",
       "      <th></th>\n",
       "      <th>estatura</th>\n",
       "      <th>peso</th>\n",
       "      <th>ingresos</th>\n",
       "      <th>educacion</th>\n",
       "      <th>educacion_madre</th>\n",
       "      <th>educacion_padre</th>\n",
       "      <th>camina</th>\n",
       "      <th>ejercicio</th>\n",
       "      <th>fumador</th>\n",
       "      <th>tenso</th>\n",
       "      <th>malhumorado</th>\n",
       "      <th>edad</th>\n",
       "      <th>genero_masculino</th>\n",
       "      <th>etnia_Blanco</th>\n",
       "      <th>etnia_Latino</th>\n",
       "      <th>etnia_Other</th>\n",
       "    </tr>\n",
       "  </thead>\n",
       "  <tbody>\n",
       "    <tr>\n",
       "      <th>0</th>\n",
       "      <td>187.96</td>\n",
       "      <td>95.25</td>\n",
       "      <td>50000.0</td>\n",
       "      <td>16</td>\n",
       "      <td>16</td>\n",
       "      <td>16</td>\n",
       "      <td>3</td>\n",
       "      <td>3</td>\n",
       "      <td>2</td>\n",
       "      <td>0</td>\n",
       "      <td>0</td>\n",
       "      <td>45</td>\n",
       "      <td>1</td>\n",
       "      <td>1</td>\n",
       "      <td>0</td>\n",
       "      <td>0</td>\n",
       "    </tr>\n",
       "    <tr>\n",
       "      <th>1</th>\n",
       "      <td>167.64</td>\n",
       "      <td>56.70</td>\n",
       "      <td>60000.0</td>\n",
       "      <td>16</td>\n",
       "      <td>16</td>\n",
       "      <td>16</td>\n",
       "      <td>6</td>\n",
       "      <td>5</td>\n",
       "      <td>1</td>\n",
       "      <td>0</td>\n",
       "      <td>0</td>\n",
       "      <td>58</td>\n",
       "      <td>0</td>\n",
       "      <td>1</td>\n",
       "      <td>0</td>\n",
       "      <td>0</td>\n",
       "    </tr>\n",
       "    <tr>\n",
       "      <th>2</th>\n",
       "      <td>162.56</td>\n",
       "      <td>57.15</td>\n",
       "      <td>30000.0</td>\n",
       "      <td>16</td>\n",
       "      <td>16</td>\n",
       "      <td>16</td>\n",
       "      <td>8</td>\n",
       "      <td>1</td>\n",
       "      <td>2</td>\n",
       "      <td>1</td>\n",
       "      <td>1</td>\n",
       "      <td>29</td>\n",
       "      <td>0</td>\n",
       "      <td>1</td>\n",
       "      <td>0</td>\n",
       "      <td>0</td>\n",
       "    </tr>\n",
       "    <tr>\n",
       "      <th>3</th>\n",
       "      <td>165.10</td>\n",
       "      <td>90.72</td>\n",
       "      <td>25000.0</td>\n",
       "      <td>17</td>\n",
       "      <td>17</td>\n",
       "      <td>16</td>\n",
       "      <td>8</td>\n",
       "      <td>1</td>\n",
       "      <td>2</td>\n",
       "      <td>0</td>\n",
       "      <td>0</td>\n",
       "      <td>57</td>\n",
       "      <td>0</td>\n",
       "      <td>1</td>\n",
       "      <td>0</td>\n",
       "      <td>0</td>\n",
       "    </tr>\n",
       "    <tr>\n",
       "      <th>4</th>\n",
       "      <td>160.02</td>\n",
       "      <td>49.90</td>\n",
       "      <td>50000.0</td>\n",
       "      <td>16</td>\n",
       "      <td>16</td>\n",
       "      <td>16</td>\n",
       "      <td>5</td>\n",
       "      <td>6</td>\n",
       "      <td>2</td>\n",
       "      <td>0</td>\n",
       "      <td>0</td>\n",
       "      <td>91</td>\n",
       "      <td>0</td>\n",
       "      <td>0</td>\n",
       "      <td>0</td>\n",
       "      <td>1</td>\n",
       "    </tr>\n",
       "  </tbody>\n",
       "</table>\n",
       "</div>"
      ],
      "text/plain": [
       "   estatura   peso  ingresos  educacion  educacion_madre  educacion_padre  \\\n",
       "0    187.96  95.25   50000.0         16               16               16   \n",
       "1    167.64  56.70   60000.0         16               16               16   \n",
       "2    162.56  57.15   30000.0         16               16               16   \n",
       "3    165.10  90.72   25000.0         17               17               16   \n",
       "4    160.02  49.90   50000.0         16               16               16   \n",
       "\n",
       "   camina  ejercicio  fumador  tenso  malhumorado  edad  genero_masculino  \\\n",
       "0       3          3        2      0            0    45                 1   \n",
       "1       6          5        1      0            0    58                 0   \n",
       "2       8          1        2      1            1    29                 0   \n",
       "3       8          1        2      0            0    57                 0   \n",
       "4       5          6        2      0            0    91                 0   \n",
       "\n",
       "   etnia_Blanco  etnia_Latino  etnia_Other  \n",
       "0             1             0            0  \n",
       "1             1             0            0  \n",
       "2             1             0            0  \n",
       "3             1             0            0  \n",
       "4             0             0            1  "
      ]
     },
     "execution_count": 9,
     "metadata": {},
     "output_type": "execute_result"
    }
   ],
   "source": [
    "# Copiar el DataFrame original para mantener los datos originales\n",
    "data_original = data.copy(deep=True)\n",
    "\n",
    "# Inicializar el imputador KNN\n",
    "KNN_imputer = KNNImputer(n_neighbors=5)\n",
    "\n",
    "# Imputar usando fit_transform en data_imputer\n",
    "data_scaled_imputer_knn = KNN_imputer.fit_transform(data_scaled)\n",
    "\n",
    "# Volver a la escala original con los datos imputados que conseguimos anteriormente\n",
    "original_data = scaler.inverse_transform(data_scaled_imputer_knn)\n",
    "\n",
    "# Convertir a DataFrame\n",
    "original_data = pd.DataFrame(original_data, columns=data.columns)\n",
    "\n",
    "# Seleccionar columnas numéricas\n",
    "col_num = data.drop(columns = ['estatura','peso','ingresos']).columns\n",
    "\n",
    "# Redondear valores enteros\n",
    "original_data[col_num] = original_data[col_num].astype(int)\n",
    "\n",
    "original_data.head()"
   ]
  },
  {
   "cell_type": "code",
   "execution_count": 10,
   "metadata": {},
   "outputs": [
    {
     "name": "stdout",
     "output_type": "stream",
     "text": [
      "estatura            0\n",
      "peso                0\n",
      "ingresos            0\n",
      "educacion           0\n",
      "educacion_madre     0\n",
      "educacion_padre     0\n",
      "camina              0\n",
      "ejercicio           0\n",
      "fumador             0\n",
      "tenso               0\n",
      "malhumorado         0\n",
      "edad                0\n",
      "genero_masculino    0\n",
      "etnia_Blanco        0\n",
      "etnia_Latino        0\n",
      "etnia_Other         0\n",
      "dtype: int64\n"
     ]
    }
   ],
   "source": [
    "nan2 = original_data.isna().sum()\n",
    "print(nan2)"
   ]
  },
  {
   "cell_type": "code",
   "execution_count": 11,
   "metadata": {},
   "outputs": [],
   "source": [
    "#Regresion Lasso seleccion de variables\n",
    "from sklearn.model_selection import train_test_split # Separar el set de datos\n",
    "from sklearn.linear_model import LinearRegression # Regresión Lineal\n",
    "y = original_data['ingresos']\n",
    "X = original_data.drop(columns = 'ingresos')\n",
    "\n",
    "# Particionar data\n",
    "X_train,X_test,y_train,y_test = train_test_split(X, y, train_size = 0.8, random_state=0)"
   ]
  },
  {
   "cell_type": "code",
   "execution_count": 12,
   "metadata": {},
   "outputs": [
    {
     "name": "stdout",
     "output_type": "stream",
     "text": [
      "El mejor valor de alpha es: 10\n"
     ]
    }
   ],
   "source": [
    "from sklearn.linear_model import Lasso\n",
    "from sklearn.model_selection import GridSearchCV, KFold\n",
    "\n",
    "# particiones\n",
    "particiones = KFold(n_splits = 10, shuffle = True, random_state = 0)\n",
    "\n",
    "# Definir el rango de valores de alpha\n",
    "param_grid = {'alpha': [0.1, 0.5, 1, 5, 10]}\n",
    "\n",
    "# Crear el modelo de regresión Ridge\n",
    "lasso = Lasso()\n",
    "\n",
    "# Configurar la búsqueda de cuadrícula\n",
    "# minimizar el error cuadrático medio durante la búsqueda de cuadrícula.\n",
    "grid_search = GridSearchCV(estimator=lasso, param_grid=param_grid, cv=particiones, scoring='neg_mean_squared_error')\n",
    "\n",
    "# Realizar la búsqueda de cuadrícula\n",
    "grid_search.fit(X_train, y_train)\n",
    "\n",
    "# Obtener el mejor valor de alpha\n",
    "best_alpha = grid_search.best_params_['alpha']\n",
    "\n",
    "print(\"El mejor valor de alpha es:\", best_alpha)"
   ]
  },
  {
   "cell_type": "code",
   "execution_count": 13,
   "metadata": {},
   "outputs": [
    {
     "name": "stdout",
     "output_type": "stream",
     "text": [
      "Mejor penalización: Lasso(alpha=10)\n"
     ]
    }
   ],
   "source": [
    "#Variables de importancia\n",
    "modelo_final = grid_search.best_estimator_\n",
    "print(f'Mejor penalización: {modelo_final}')\n",
    "coeficientes = [float(format(i, '.2f')) for i in modelo_final.coef_]\n",
    "\n",
    "variables = X.columns\n",
    "df_sel_var = pd.DataFrame({'variables': variables, 'coeficientes': coeficientes})\n",
    "\n",
    "col_excluir = list(df_sel_var[df_sel_var['coeficientes'] == 0]['variables'])\n",
    "\n",
    "col_incluir = list(df_sel_var[df_sel_var['coeficientes'] != 0]['variables'])"
   ]
  },
  {
   "cell_type": "code",
   "execution_count": 14,
   "metadata": {},
   "outputs": [
    {
     "data": {
      "text/html": [
       "<div>\n",
       "<style scoped>\n",
       "    .dataframe tbody tr th:only-of-type {\n",
       "        vertical-align: middle;\n",
       "    }\n",
       "\n",
       "    .dataframe tbody tr th {\n",
       "        vertical-align: top;\n",
       "    }\n",
       "\n",
       "    .dataframe thead th {\n",
       "        text-align: right;\n",
       "    }\n",
       "</style>\n",
       "<table border=\"1\" class=\"dataframe\">\n",
       "  <thead>\n",
       "    <tr style=\"text-align: right;\">\n",
       "      <th></th>\n",
       "      <th>variables</th>\n",
       "      <th>coeficientes</th>\n",
       "    </tr>\n",
       "  </thead>\n",
       "  <tbody>\n",
       "    <tr>\n",
       "      <th>9</th>\n",
       "      <td>malhumorado</td>\n",
       "      <td>0.0</td>\n",
       "    </tr>\n",
       "  </tbody>\n",
       "</table>\n",
       "</div>"
      ],
      "text/plain": [
       "     variables  coeficientes\n",
       "9  malhumorado           0.0"
      ]
     },
     "execution_count": 14,
     "metadata": {},
     "output_type": "execute_result"
    }
   ],
   "source": [
    "df_sel_var[df_sel_var['coeficientes']==0]"
   ]
  },
  {
   "cell_type": "code",
   "execution_count": 15,
   "metadata": {},
   "outputs": [],
   "source": [
    "#Modelo de regresion lineal\n",
    "X = original_data[col_incluir].copy()\n",
    "y = original_data['ingresos']"
   ]
  },
  {
   "cell_type": "code",
   "execution_count": 16,
   "metadata": {},
   "outputs": [],
   "source": [
    "from sklearn.metrics import mean_squared_error, mean_absolute_error, r2_score # Importar métricas de rendimientos\n",
    "\n",
    "def fn_metricas_info(modelo, y_verdadero, y_calculado):\n",
    "    metrics = {\n",
    "        'MAE': mean_absolute_error(y_verdadero, y_calculado),\n",
    "        'MSE': mean_squared_error(y_verdadero, y_calculado),\n",
    "        'RMSE': np.sqrt(mean_squared_error(y_verdadero, y_calculado)),\n",
    "        'R2': r2_score(y_verdadero, y_calculado)\n",
    "    }\n",
    "    return pd.DataFrame(metrics, index=[modelo])"
   ]
  },
  {
   "cell_type": "code",
   "execution_count": 17,
   "metadata": {},
   "outputs": [
    {
     "data": {
      "text/html": [
       "<div>\n",
       "<style scoped>\n",
       "    .dataframe tbody tr th:only-of-type {\n",
       "        vertical-align: middle;\n",
       "    }\n",
       "\n",
       "    .dataframe tbody tr th {\n",
       "        vertical-align: top;\n",
       "    }\n",
       "\n",
       "    .dataframe thead th {\n",
       "        text-align: right;\n",
       "    }\n",
       "</style>\n",
       "<table border=\"1\" class=\"dataframe\">\n",
       "  <thead>\n",
       "    <tr style=\"text-align: right;\">\n",
       "      <th></th>\n",
       "      <th>MAE</th>\n",
       "      <th>MSE</th>\n",
       "      <th>RMSE</th>\n",
       "      <th>R2</th>\n",
       "    </tr>\n",
       "  </thead>\n",
       "  <tbody>\n",
       "    <tr>\n",
       "      <th>Regresión Lineal</th>\n",
       "      <td>12884.547538</td>\n",
       "      <td>3.676784e+08</td>\n",
       "      <td>19174.941189</td>\n",
       "      <td>0.188313</td>\n",
       "    </tr>\n",
       "  </tbody>\n",
       "</table>\n",
       "</div>"
      ],
      "text/plain": [
       "                           MAE           MSE          RMSE        R2\n",
       "Regresión Lineal  12884.547538  3.676784e+08  19174.941189  0.188313"
      ]
     },
     "execution_count": 17,
     "metadata": {},
     "output_type": "execute_result"
    }
   ],
   "source": [
    "# Separar datos\n",
    "X_train,X_test,y_train,y_test = train_test_split(X, y, train_size = 0.8, random_state=0)\n",
    "\n",
    "# Crear el modelo de regresión\n",
    "lineal_model = LinearRegression()\n",
    "\n",
    "# Entrenar el modelo\n",
    "lineal_model.fit(X_train, y_train)\n",
    "\n",
    "# Hacer predicciones\n",
    "y_pred = lineal_model.predict(X_test)\n",
    "\n",
    "# Evaluar el modelo\n",
    "df_metricas = pd.DataFrame()\n",
    "df_metricas = fn_metricas_info('Regresión Lineal', y_test, y_pred)\n",
    "df_metricas"
   ]
  },
  {
   "cell_type": "code",
   "execution_count": 18,
   "metadata": {},
   "outputs": [
    {
     "data": {
      "text/html": [
       "<div>\n",
       "<style scoped>\n",
       "    .dataframe tbody tr th:only-of-type {\n",
       "        vertical-align: middle;\n",
       "    }\n",
       "\n",
       "    .dataframe tbody tr th {\n",
       "        vertical-align: top;\n",
       "    }\n",
       "\n",
       "    .dataframe thead th {\n",
       "        text-align: right;\n",
       "    }\n",
       "</style>\n",
       "<table border=\"1\" class=\"dataframe\">\n",
       "  <thead>\n",
       "    <tr style=\"text-align: right;\">\n",
       "      <th></th>\n",
       "      <th>MAE</th>\n",
       "      <th>MSE</th>\n",
       "      <th>RMSE</th>\n",
       "      <th>R2</th>\n",
       "    </tr>\n",
       "  </thead>\n",
       "  <tbody>\n",
       "    <tr>\n",
       "      <th>Regresión Lineal</th>\n",
       "      <td>12884.547538</td>\n",
       "      <td>3.676784e+08</td>\n",
       "      <td>19174.941189</td>\n",
       "      <td>0.188313</td>\n",
       "    </tr>\n",
       "    <tr>\n",
       "      <th>Regresión Polinomial G2</th>\n",
       "      <td>12563.331557</td>\n",
       "      <td>3.637640e+08</td>\n",
       "      <td>19072.598731</td>\n",
       "      <td>0.196954</td>\n",
       "    </tr>\n",
       "  </tbody>\n",
       "</table>\n",
       "</div>"
      ],
      "text/plain": [
       "                                  MAE           MSE          RMSE        R2\n",
       "Regresión Lineal         12884.547538  3.676784e+08  19174.941189  0.188313\n",
       "Regresión Polinomial G2  12563.331557  3.637640e+08  19072.598731  0.196954"
      ]
     },
     "execution_count": 18,
     "metadata": {},
     "output_type": "execute_result"
    }
   ],
   "source": [
    "#Modelo polinomial\n",
    "from sklearn.preprocessing import PolynomialFeatures\n",
    "\n",
    "# Instaciar modelo de regresión polinomial\n",
    "poli = PolynomialFeatures(degree = 2)\n",
    "\n",
    "\n",
    "# Ft transformar a set de caracterìsticas\n",
    "X_train_poli = poli.fit_transform(X_train)\n",
    "X_test_poli = poli.fit_transform(X_test)\n",
    "\n",
    "#@title Instanciar objeto de regresión lineal y aplicar modelo a set de entrenamiento\n",
    "mod_reg_poli = LinearRegression()\n",
    "\n",
    "# Entrenar set de prueba\n",
    "mod_reg_poli.fit(X_train_poli, y_train)\n",
    "\n",
    "y_test_pred = mod_reg_poli.predict(X_test_poli)\n",
    "\n",
    "# Metrica\n",
    "df_metricas = pd.concat([df_metricas, fn_metricas_info('Regresión Polinomial G2',y_test, y_test_pred)])\n",
    "df_metricas"
   ]
  },
  {
   "cell_type": "code",
   "execution_count": 19,
   "metadata": {},
   "outputs": [
    {
     "name": "stdout",
     "output_type": "stream",
     "text": [
      "El mejor valor de alpha es: 10\n"
     ]
    }
   ],
   "source": [
    "#Modelo Ridge\n",
    "from sklearn.linear_model import Ridge\n",
    "from sklearn.model_selection import GridSearchCV, KFold\n",
    "\n",
    "# particiones\n",
    "particiones = KFold(n_splits = 10, shuffle = True, random_state = 0)\n",
    "\n",
    "# Definir el rango de valores de alpha\n",
    "param_grid = {'alpha': [0.1, 1, 3, 5, 10]}\n",
    "\n",
    "# Crear el modelo de regresión Ridge\n",
    "ridge = Ridge()\n",
    "\n",
    "# Configurar la búsqueda de cuadrícula\n",
    "grid_search = GridSearchCV(estimator=ridge, param_grid=param_grid, cv=particiones, scoring='neg_mean_squared_error')\n",
    "\n",
    "# Realizar la búsqueda de cuadrícula\n",
    "grid_search.fit(X_train, y_train)\n",
    "\n",
    "# Obtener el mejor valor de alpha\n",
    "best_alpha = grid_search.best_params_['alpha']\n",
    "\n",
    "print(\"El mejor valor de alpha es:\", best_alpha)\n",
    "\n",
    "ridge = Ridge(alpha= best_alpha, random_state=42)"
   ]
  },
  {
   "cell_type": "code",
   "execution_count": 20,
   "metadata": {},
   "outputs": [
    {
     "data": {
      "text/html": [
       "<div>\n",
       "<style scoped>\n",
       "    .dataframe tbody tr th:only-of-type {\n",
       "        vertical-align: middle;\n",
       "    }\n",
       "\n",
       "    .dataframe tbody tr th {\n",
       "        vertical-align: top;\n",
       "    }\n",
       "\n",
       "    .dataframe thead th {\n",
       "        text-align: right;\n",
       "    }\n",
       "</style>\n",
       "<table border=\"1\" class=\"dataframe\">\n",
       "  <thead>\n",
       "    <tr style=\"text-align: right;\">\n",
       "      <th></th>\n",
       "      <th>MAE</th>\n",
       "      <th>MSE</th>\n",
       "      <th>RMSE</th>\n",
       "      <th>R2</th>\n",
       "    </tr>\n",
       "  </thead>\n",
       "  <tbody>\n",
       "    <tr>\n",
       "      <th>Regresión Lineal</th>\n",
       "      <td>12884.547538</td>\n",
       "      <td>3.676784e+08</td>\n",
       "      <td>19174.941189</td>\n",
       "      <td>0.188313</td>\n",
       "    </tr>\n",
       "    <tr>\n",
       "      <th>Regresión Polinomial G2</th>\n",
       "      <td>12563.331557</td>\n",
       "      <td>3.637640e+08</td>\n",
       "      <td>19072.598731</td>\n",
       "      <td>0.196954</td>\n",
       "    </tr>\n",
       "    <tr>\n",
       "      <th>Regresión Ridge</th>\n",
       "      <td>12887.214740</td>\n",
       "      <td>3.675216e+08</td>\n",
       "      <td>19170.853498</td>\n",
       "      <td>0.188659</td>\n",
       "    </tr>\n",
       "  </tbody>\n",
       "</table>\n",
       "</div>"
      ],
      "text/plain": [
       "                                  MAE           MSE          RMSE        R2\n",
       "Regresión Lineal         12884.547538  3.676784e+08  19174.941189  0.188313\n",
       "Regresión Polinomial G2  12563.331557  3.637640e+08  19072.598731  0.196954\n",
       "Regresión Ridge          12887.214740  3.675216e+08  19170.853498  0.188659"
      ]
     },
     "execution_count": 20,
     "metadata": {},
     "output_type": "execute_result"
    }
   ],
   "source": [
    "ridge.fit(X_train, y_train)\n",
    "\n",
    "# Obtner predicción datos test\n",
    "y_test_pred = ridge.predict(X_test)\n",
    "\n",
    "# Metrica\n",
    "df_metricas = pd.concat([df_metricas, fn_metricas_info('Regresión Ridge',y_test, y_test_pred)])\n",
    "df_metricas"
   ]
  },
  {
   "cell_type": "code",
   "execution_count": 21,
   "metadata": {},
   "outputs": [
    {
     "name": "stdout",
     "output_type": "stream",
     "text": [
      "El mejor valor de alpha es: 10\n"
     ]
    }
   ],
   "source": [
    "#Modelo Lasso\n",
    "from sklearn.linear_model import Lasso\n",
    "from sklearn.model_selection import GridSearchCV, KFold\n",
    "\n",
    "# particiones\n",
    "particiones = KFold(n_splits = 10, shuffle = True, random_state = 0)\n",
    "\n",
    "# Definir el rango de valores de alpha\n",
    "param_grid = {'alpha': [0.1, 1, 3, 5, 10]}\n",
    "\n",
    "# Crear el modelo de regresión Ridge\n",
    "lasso = Lasso()\n",
    "\n",
    "# Configurar la búsqueda de cuadrícula\n",
    "# minimizar el error cuadrático medio durante la búsqueda de cuadrícula.\n",
    "grid_search = GridSearchCV(estimator=lasso, param_grid=param_grid, cv=particiones, scoring='neg_mean_squared_error')\n",
    "\n",
    "# Realizar la búsqueda de cuadrícula\n",
    "grid_search.fit(X_train, y_train)\n",
    "\n",
    "# Obtener el mejor valor de alpha\n",
    "best_alpha = grid_search.best_params_['alpha']\n",
    "\n",
    "print(\"El mejor valor de alpha es:\", best_alpha)\n",
    "\n",
    "#Instanciar el modelo Lasso y aplicar a nuestro set de entrenamiento y test\n",
    "lasso = Lasso(alpha=best_alpha,random_state=42)"
   ]
  },
  {
   "cell_type": "code",
   "execution_count": 22,
   "metadata": {},
   "outputs": [
    {
     "data": {
      "text/html": [
       "<div>\n",
       "<style scoped>\n",
       "    .dataframe tbody tr th:only-of-type {\n",
       "        vertical-align: middle;\n",
       "    }\n",
       "\n",
       "    .dataframe tbody tr th {\n",
       "        vertical-align: top;\n",
       "    }\n",
       "\n",
       "    .dataframe thead th {\n",
       "        text-align: right;\n",
       "    }\n",
       "</style>\n",
       "<table border=\"1\" class=\"dataframe\">\n",
       "  <thead>\n",
       "    <tr style=\"text-align: right;\">\n",
       "      <th></th>\n",
       "      <th>MAE</th>\n",
       "      <th>MSE</th>\n",
       "      <th>RMSE</th>\n",
       "      <th>R2</th>\n",
       "    </tr>\n",
       "  </thead>\n",
       "  <tbody>\n",
       "    <tr>\n",
       "      <th>Regresión Lineal</th>\n",
       "      <td>12884.547538</td>\n",
       "      <td>3.676784e+08</td>\n",
       "      <td>19174.941189</td>\n",
       "      <td>0.188313</td>\n",
       "    </tr>\n",
       "    <tr>\n",
       "      <th>Regresión Polinomial G2</th>\n",
       "      <td>12563.331557</td>\n",
       "      <td>3.637640e+08</td>\n",
       "      <td>19072.598731</td>\n",
       "      <td>0.196954</td>\n",
       "    </tr>\n",
       "    <tr>\n",
       "      <th>Regresión Ridge</th>\n",
       "      <td>12887.214740</td>\n",
       "      <td>3.675216e+08</td>\n",
       "      <td>19170.853498</td>\n",
       "      <td>0.188659</td>\n",
       "    </tr>\n",
       "    <tr>\n",
       "      <th>Regresión Lasso</th>\n",
       "      <td>12875.051678</td>\n",
       "      <td>3.673782e+08</td>\n",
       "      <td>19167.111446</td>\n",
       "      <td>0.188976</td>\n",
       "    </tr>\n",
       "  </tbody>\n",
       "</table>\n",
       "</div>"
      ],
      "text/plain": [
       "                                  MAE           MSE          RMSE        R2\n",
       "Regresión Lineal         12884.547538  3.676784e+08  19174.941189  0.188313\n",
       "Regresión Polinomial G2  12563.331557  3.637640e+08  19072.598731  0.196954\n",
       "Regresión Ridge          12887.214740  3.675216e+08  19170.853498  0.188659\n",
       "Regresión Lasso          12875.051678  3.673782e+08  19167.111446  0.188976"
      ]
     },
     "execution_count": 22,
     "metadata": {},
     "output_type": "execute_result"
    }
   ],
   "source": [
    "# Entrenar modelo datos train\n",
    "lasso.fit(X_train, y_train)\n",
    "\n",
    "y_test_pred = lasso.predict(X_test)\n",
    "\n",
    "# Metrica\n",
    "df_metricas = pd.concat([df_metricas, fn_metricas_info('Regresión Lasso',y_test, y_test_pred)])\n",
    "df_metricas"
   ]
  },
  {
   "cell_type": "code",
   "execution_count": 23,
   "metadata": {},
   "outputs": [
    {
     "name": "stdout",
     "output_type": "stream",
     "text": [
      "El mejor valor de alpha es: 0.1\n"
     ]
    }
   ],
   "source": [
    "#Elastic Net\n",
    "from sklearn.linear_model import ElasticNet\n",
    "from sklearn.model_selection import GridSearchCV\n",
    "\n",
    "# Definir el rango de valores de alpha\n",
    "param_grid = {'alpha': [0.1, 1, 10, 100]}\n",
    "\n",
    "# Crear el modelo de regresión Ridge\n",
    "elastic_net = ElasticNet()\n",
    "\n",
    "# particiones\n",
    "particiones = KFold(n_splits = 10, shuffle = True, random_state = 0)\n",
    "\n",
    "# Configurar la búsqueda de cuadrícula\n",
    "# minimizar el error cuadrático medio durante la búsqueda de cuadrícula.\n",
    "grid_search = GridSearchCV(estimator=elastic_net, param_grid=param_grid, cv=particiones, scoring='neg_mean_squared_error')\n",
    "\n",
    "# Realizar la búsqueda de cuadrícula\n",
    "grid_search.fit(X_train, y_train)\n",
    "\n",
    "# Obtener el mejor valor de alpha\n",
    "best_alpha = grid_search.best_params_['alpha']\n",
    "\n",
    "print(\"El mejor valor de alpha es:\", best_alpha)\n",
    "\n",
    "elastic_net = ElasticNet(alpha=best_alpha,\n",
    "                         random_state=42)"
   ]
  },
  {
   "cell_type": "code",
   "execution_count": 24,
   "metadata": {},
   "outputs": [
    {
     "data": {
      "text/html": [
       "<div>\n",
       "<style scoped>\n",
       "    .dataframe tbody tr th:only-of-type {\n",
       "        vertical-align: middle;\n",
       "    }\n",
       "\n",
       "    .dataframe tbody tr th {\n",
       "        vertical-align: top;\n",
       "    }\n",
       "\n",
       "    .dataframe thead th {\n",
       "        text-align: right;\n",
       "    }\n",
       "</style>\n",
       "<table border=\"1\" class=\"dataframe\">\n",
       "  <thead>\n",
       "    <tr style=\"text-align: right;\">\n",
       "      <th></th>\n",
       "      <th>MAE</th>\n",
       "      <th>MSE</th>\n",
       "      <th>RMSE</th>\n",
       "      <th>R2</th>\n",
       "    </tr>\n",
       "  </thead>\n",
       "  <tbody>\n",
       "    <tr>\n",
       "      <th>Regresión Lineal</th>\n",
       "      <td>12884.547538</td>\n",
       "      <td>3.676784e+08</td>\n",
       "      <td>19174.941189</td>\n",
       "      <td>0.188313</td>\n",
       "    </tr>\n",
       "    <tr>\n",
       "      <th>Regresión Polinomial G2</th>\n",
       "      <td>12563.331557</td>\n",
       "      <td>3.637640e+08</td>\n",
       "      <td>19072.598731</td>\n",
       "      <td>0.196954</td>\n",
       "    </tr>\n",
       "    <tr>\n",
       "      <th>Regresión Ridge</th>\n",
       "      <td>12887.214740</td>\n",
       "      <td>3.675216e+08</td>\n",
       "      <td>19170.853498</td>\n",
       "      <td>0.188659</td>\n",
       "    </tr>\n",
       "    <tr>\n",
       "      <th>Regresión Lasso</th>\n",
       "      <td>12875.051678</td>\n",
       "      <td>3.673782e+08</td>\n",
       "      <td>19167.111446</td>\n",
       "      <td>0.188976</td>\n",
       "    </tr>\n",
       "    <tr>\n",
       "      <th>Regresión Elastic Net</th>\n",
       "      <td>12927.332372</td>\n",
       "      <td>3.684739e+08</td>\n",
       "      <td>19195.673847</td>\n",
       "      <td>0.186557</td>\n",
       "    </tr>\n",
       "  </tbody>\n",
       "</table>\n",
       "</div>"
      ],
      "text/plain": [
       "                                  MAE           MSE          RMSE        R2\n",
       "Regresión Lineal         12884.547538  3.676784e+08  19174.941189  0.188313\n",
       "Regresión Polinomial G2  12563.331557  3.637640e+08  19072.598731  0.196954\n",
       "Regresión Ridge          12887.214740  3.675216e+08  19170.853498  0.188659\n",
       "Regresión Lasso          12875.051678  3.673782e+08  19167.111446  0.188976\n",
       "Regresión Elastic Net    12927.332372  3.684739e+08  19195.673847  0.186557"
      ]
     },
     "execution_count": 24,
     "metadata": {},
     "output_type": "execute_result"
    }
   ],
   "source": [
    "elastic_net.fit(X_train, y_train)\n",
    "y_test_pred = elastic_net.predict(X_test)\n",
    "\n",
    "# Metrica\n",
    "df_metricas = pd.concat([df_metricas, fn_metricas_info('Regresión Elastic Net',y_test, y_test_pred)])\n",
    "df_metricas"
   ]
  },
  {
   "cell_type": "code",
   "execution_count": 25,
   "metadata": {},
   "outputs": [
    {
     "data": {
      "text/html": [
       "<div>\n",
       "<style scoped>\n",
       "    .dataframe tbody tr th:only-of-type {\n",
       "        vertical-align: middle;\n",
       "    }\n",
       "\n",
       "    .dataframe tbody tr th {\n",
       "        vertical-align: top;\n",
       "    }\n",
       "\n",
       "    .dataframe thead th {\n",
       "        text-align: right;\n",
       "    }\n",
       "</style>\n",
       "<table border=\"1\" class=\"dataframe\">\n",
       "  <thead>\n",
       "    <tr style=\"text-align: right;\">\n",
       "      <th></th>\n",
       "      <th>MAE</th>\n",
       "      <th>MSE</th>\n",
       "      <th>RMSE</th>\n",
       "      <th>R2</th>\n",
       "    </tr>\n",
       "  </thead>\n",
       "  <tbody>\n",
       "    <tr>\n",
       "      <th>Regresión Polinomial G2</th>\n",
       "      <td>12563.331557</td>\n",
       "      <td>3.637640e+08</td>\n",
       "      <td>19072.598731</td>\n",
       "      <td>0.196954</td>\n",
       "    </tr>\n",
       "  </tbody>\n",
       "</table>\n",
       "</div>"
      ],
      "text/plain": [
       "                                  MAE           MSE          RMSE        R2\n",
       "Regresión Polinomial G2  12563.331557  3.637640e+08  19072.598731  0.196954"
      ]
     },
     "execution_count": 25,
     "metadata": {},
     "output_type": "execute_result"
    }
   ],
   "source": [
    "df_metricas[df_metricas['RMSE'] == df_metricas['RMSE'].min()]"
   ]
  },
  {
   "cell_type": "code",
   "execution_count": 26,
   "metadata": {},
   "outputs": [],
   "source": [
    "#Analisis de componenetes principales\n",
    "scaler = StandardScaler()\n",
    "data_scaled = scaler.fit_transform(original_data) "
   ]
  },
  {
   "cell_type": "code",
   "execution_count": 27,
   "metadata": {},
   "outputs": [
    {
     "name": "stdout",
     "output_type": "stream",
     "text": [
      "Medias de cada columna: [ 0.  0.  0. -0. -0. -0.  0. -0. -0.  0.  0.  0.  0. -0.  0.  0.]\n",
      "Varianza de cada columna: [1. 1. 1. 1. 1. 1. 1. 1. 1. 1. 1. 1. 1. 1. 1. 1.]\n"
     ]
    }
   ],
   "source": [
    "#Verificacion de correcta estandarizacion:\n",
    "mean_values = np.mean(data_scaled, axis=0).round(2)  # media por columna\n",
    "var_values = np.var(data_scaled, axis=0).round(2)    # varianza por columna\n",
    "\n",
    "print(\"Medias de cada columna:\", mean_values)\n",
    "print(\"Varianza de cada columna:\", var_values)"
   ]
  },
  {
   "cell_type": "markdown",
   "metadata": {},
   "source": [
    "**PCA**"
   ]
  },
  {
   "cell_type": "code",
   "execution_count": 28,
   "metadata": {},
   "outputs": [],
   "source": [
    "data_scaled_df = pd.DataFrame(data_scaled, columns=original_data.columns)"
   ]
  },
  {
   "cell_type": "markdown",
   "metadata": {},
   "source": [
    "**Correlacion de Pearson**"
   ]
  },
  {
   "cell_type": "code",
   "execution_count": 29,
   "metadata": {},
   "outputs": [],
   "source": [
    "# Calcular la matriz de correlación de Pearson\n",
    "matriz_corr = data_scaled_df.corr(method=\"pearson\")"
   ]
  },
  {
   "cell_type": "markdown",
   "metadata": {},
   "source": [
    "**Prueba esferidad de Bartlet**"
   ]
  },
  {
   "cell_type": "code",
   "execution_count": 30,
   "metadata": {},
   "outputs": [
    {
     "name": "stdout",
     "output_type": "stream",
     "text": [
      "Cantidad de filas 1816\n",
      "Cantidad de columnas 16\n",
      "Determinante de la matriz de correlación 7.258602135080849e-38\n"
     ]
    }
   ],
   "source": [
    "# se procede a calcular los valores para el estadistico chi-cuadro\n",
    "n = len(data_scaled)\n",
    "p = data_scaled.shape[1]\n",
    "R = np.linalg.det(matriz_corr)\n",
    "\n",
    "print(f'Cantidad de filas {n}')\n",
    "print(f'Cantidad de columnas {p}')\n",
    "print(f'Determinante de la matriz de correlación {R}')"
   ]
  },
  {
   "cell_type": "code",
   "execution_count": 31,
   "metadata": {},
   "outputs": [
    {
     "name": "stdout",
     "output_type": "stream",
     "text": [
      "Valor estadistico chi2: 154684.2750223596\n"
     ]
    }
   ],
   "source": [
    "# Valor estadistico chi2\n",
    "chi2 = -(n-1-((2*p+5)/6))*m.log(R)\n",
    "print(f'Valor estadistico chi2: {chi2}')"
   ]
  },
  {
   "cell_type": "code",
   "execution_count": 32,
   "metadata": {},
   "outputs": [
    {
     "name": "stdout",
     "output_type": "stream",
     "text": [
      "Grados de libertad: 120.0\n"
     ]
    }
   ],
   "source": [
    "gdl = (p*(p-1))/2\n",
    "print(f'Grados de libertad: {gdl}')"
   ]
  },
  {
   "cell_type": "code",
   "execution_count": 33,
   "metadata": {},
   "outputs": [
    {
     "name": "stdout",
     "output_type": "stream",
     "text": [
      "P-value: 0.0\n"
     ]
    }
   ],
   "source": [
    "pvalue = stats.chi2.pdf(chi2, gdl)\n",
    "print(f'P-value: {pvalue}')"
   ]
  },
  {
   "cell_type": "markdown",
   "metadata": {},
   "source": [
    "El resultado muestra que p < 0,05, es decir que tenemos evidencias para rechazar la hipótesis nula, por lo tanto podemos decir que variables están correlacionadas. En otras palabras podemos llevar a cabo un proceso de reducción de dimensionalidad"
   ]
  },
  {
   "cell_type": "markdown",
   "metadata": {},
   "source": [
    "**Indice KMO de Kaiser-Meyer-Olkin**"
   ]
  },
  {
   "cell_type": "code",
   "execution_count": 34,
   "metadata": {},
   "outputs": [],
   "source": [
    "# A.Obtener matriz de covarianza\n",
    "matriz_cov = np.cov(data_scaled.T)"
   ]
  },
  {
   "cell_type": "code",
   "execution_count": 35,
   "metadata": {},
   "outputs": [
    {
     "data": {
      "text/plain": [
       "array([ 3.07682362e+00,  2.32165498e+00,  1.97401989e+00,  1.63461215e+00,\n",
       "        1.22647007e+00,  1.06545957e+00,  1.01800759e+00,  9.27977592e-01,\n",
       "        8.03305363e-01,  5.50241495e-01,  4.50982973e-01,  2.62220758e-01,\n",
       "        3.20853900e-01,  3.60084377e-01,  7.28567506e-03, -6.54978886e-17])"
      ]
     },
     "execution_count": 35,
     "metadata": {},
     "output_type": "execute_result"
    }
   ],
   "source": [
    "# B.Computar los autovalores y autovectores (la salida es de esa forma, primero los autovalores y luego los autovectores)\n",
    "autovalores, autovector = np.linalg.eig(matriz_corr)\n",
    "autovalores"
   ]
  },
  {
   "cell_type": "code",
   "execution_count": 36,
   "metadata": {},
   "outputs": [
    {
     "data": {
      "text/plain": [
       "np.float64(16.000000000000014)"
      ]
     },
     "execution_count": 36,
     "metadata": {},
     "output_type": "execute_result"
    }
   ],
   "source": [
    "autovalores.sum()"
   ]
  },
  {
   "cell_type": "code",
   "execution_count": 37,
   "metadata": {},
   "outputs": [
    {
     "data": {
      "text/plain": [
       "array([ 1.92301476e-01,  1.45103436e-01,  1.23376243e-01,  1.02163259e-01,\n",
       "        7.66543795e-02,  6.65912231e-02,  6.36254744e-02,  5.79985995e-02,\n",
       "        5.02065852e-02,  3.43900935e-02,  2.81864358e-02,  1.63887974e-02,\n",
       "        2.00533688e-02,  2.25052736e-02,  4.55354691e-04, -4.09361804e-18])"
      ]
     },
     "execution_count": 37,
     "metadata": {},
     "output_type": "execute_result"
    }
   ],
   "source": [
    "pct_varianza_explicada = autovalores/sum(autovalores)\n",
    "pct_varianza_explicada"
   ]
  },
  {
   "cell_type": "code",
   "execution_count": 38,
   "metadata": {},
   "outputs": [],
   "source": [
    "df_pct_varianza_explicada = pd.DataFrame(sorted(pct_varianza_explicada, reverse = True), index = ['1','2','3','4','5','6','7','8','9','10','11','12','13','14','15','16']).T"
   ]
  },
  {
   "cell_type": "code",
   "execution_count": 39,
   "metadata": {},
   "outputs": [
    {
     "data": {
      "image/png": "[encoded data removed]",
      "text/plain": [
       "<Figure size 640x480 with 1 Axes>"
      ]
     },
     "metadata": {},
     "output_type": "display_data"
    }
   ],
   "source": [
    "#Graficar varianza explicada\n",
    "sns.barplot(df_pct_varianza_explicada)\n",
    "plt.xlabel('Componente Principal')\n",
    "plt.ylabel('Proporción Varianza Explicada')\n",
    "plt.title('Varianza explicada')\n",
    "plt.show()"
   ]
  },
  {
   "cell_type": "code",
   "execution_count": 40,
   "metadata": {},
   "outputs": [
    {
     "data": {
      "text/plain": [
       "array([3.07682362, 2.32165498, 1.97401989, 1.63461215, 1.22647007,\n",
       "       1.06545957, 1.01800759, 0.92797759, 0.80330536])"
      ]
     },
     "execution_count": 40,
     "metadata": {},
     "output_type": "execute_result"
    }
   ],
   "source": [
    "autovalores_kaiser = autovalores[autovalores >= 0.8]\n",
    "autovalores_kaiser"
   ]
  },
  {
   "cell_type": "markdown",
   "metadata": {},
   "source": [
    "Bajo este criterio debemos trabajar con 9 componentes"
   ]
  },
  {
   "cell_type": "code",
   "execution_count": 41,
   "metadata": {},
   "outputs": [
    {
     "data": {
      "text/html": [
       "<div>\n",
       "<style scoped>\n",
       "    .dataframe tbody tr th:only-of-type {\n",
       "        vertical-align: middle;\n",
       "    }\n",
       "\n",
       "    .dataframe tbody tr th {\n",
       "        vertical-align: top;\n",
       "    }\n",
       "\n",
       "    .dataframe thead th {\n",
       "        text-align: right;\n",
       "    }\n",
       "</style>\n",
       "<table border=\"1\" class=\"dataframe\">\n",
       "  <thead>\n",
       "    <tr style=\"text-align: right;\">\n",
       "      <th></th>\n",
       "      <th>pct_var_expl</th>\n",
       "      <th>pct_var_expl_acum</th>\n",
       "    </tr>\n",
       "  </thead>\n",
       "  <tbody>\n",
       "    <tr>\n",
       "      <th>1.0</th>\n",
       "      <td>19.230148</td>\n",
       "      <td>19.230148</td>\n",
       "    </tr>\n",
       "    <tr>\n",
       "      <th>2.0</th>\n",
       "      <td>14.510344</td>\n",
       "      <td>33.740491</td>\n",
       "    </tr>\n",
       "    <tr>\n",
       "      <th>3.0</th>\n",
       "      <td>12.337624</td>\n",
       "      <td>46.078116</td>\n",
       "    </tr>\n",
       "    <tr>\n",
       "      <th>4.0</th>\n",
       "      <td>10.216326</td>\n",
       "      <td>56.294441</td>\n",
       "    </tr>\n",
       "    <tr>\n",
       "      <th>5.0</th>\n",
       "      <td>7.665438</td>\n",
       "      <td>63.959879</td>\n",
       "    </tr>\n",
       "    <tr>\n",
       "      <th>6.0</th>\n",
       "      <td>6.659122</td>\n",
       "      <td>70.619002</td>\n",
       "    </tr>\n",
       "    <tr>\n",
       "      <th>7.0</th>\n",
       "      <td>6.362547</td>\n",
       "      <td>76.981549</td>\n",
       "    </tr>\n",
       "    <tr>\n",
       "      <th>8.0</th>\n",
       "      <td>5.799860</td>\n",
       "      <td>82.781409</td>\n",
       "    </tr>\n",
       "    <tr>\n",
       "      <th>9.0</th>\n",
       "      <td>5.020659</td>\n",
       "      <td>87.802068</td>\n",
       "    </tr>\n",
       "  </tbody>\n",
       "</table>\n",
       "</div>"
      ],
      "text/plain": [
       "     pct_var_expl  pct_var_expl_acum\n",
       "1.0     19.230148          19.230148\n",
       "2.0     14.510344          33.740491\n",
       "3.0     12.337624          46.078116\n",
       "4.0     10.216326          56.294441\n",
       "5.0      7.665438          63.959879\n",
       "6.0      6.659122          70.619002\n",
       "7.0      6.362547          76.981549\n",
       "8.0      5.799860          82.781409\n",
       "9.0      5.020659          87.802068"
      ]
     },
     "execution_count": 41,
     "metadata": {},
     "output_type": "execute_result"
    }
   ],
   "source": [
    "varianza_explicada=[]\n",
    "varianza_explicada_acum =[]\n",
    "\n",
    "# Loop para capturar la varianza explicada y la varianza explicada acumulada\n",
    "for i in autovalores_kaiser:\n",
    "    varianza_explicada.append((i)/sum(autovalores)*100)\n",
    "    varianza_explicada_acum.append(sum(varianza_explicada))\n",
    "\n",
    "\n",
    "# Generar DataFrame\n",
    "matriz_var_expl = pd.DataFrame({'pct_var_expl': varianza_explicada,\n",
    "                                'pct_var_expl_acum': varianza_explicada_acum\n",
    "                               },\n",
    "                               index=np.linspace(1,len(autovalores_kaiser),len(autovalores_kaiser)))\n",
    "\n",
    "\n",
    "# Visualizar matriz\n",
    "matriz_var_expl"
   ]
  },
  {
   "cell_type": "markdown",
   "metadata": {},
   "source": [
    "Estas 9 variables explican el 87,8% de la varianza total de la data original."
   ]
  },
  {
   "cell_type": "markdown",
   "metadata": {},
   "source": [
    "Supuestos:\n",
    "\n",
    "Linealidad: Se asume que las relaciones entre las variables son lineales.\n",
    "\n",
    "Normalidad: Aunque no es estrictamente necesario, es ideal que las variables sigan distribuciones normales para una interpretación más precisa.\n",
    "\n",
    "Escalado: Las variables deben estar estandarizadas (media 0, desviación estándar 1) para evitar que las variables con mayor magnitud dominen los resultados.\n",
    "\n",
    "Independencia: Las componentes principales resultantes deben ser no correlacionadas entre sí (ortogonales)."
   ]
  }
 ],
 "metadata": {
  "kernelspec": {
   "display_name": "Python 3",
   "language": "python",
   "name": "python3"
  },
  "language_info": {
   "codemirror_mode": {
    "name": "ipython",
    "version": 3
   },
   "file_extension": ".py",
   "mimetype": "text/x-python",
   "name": "python",
   "nbconvert_exporter": "python",
   "pygments_lexer": "ipython3",
   "version": "3.12.5"
  }
 },
 "nbformat": 4,
 "nbformat_minor": 2
}
